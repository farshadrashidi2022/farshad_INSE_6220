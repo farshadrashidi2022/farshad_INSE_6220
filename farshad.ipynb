{
  "nbformat": 4,
  "nbformat_minor": 0,
  "metadata": {
    "colab": {
      "provenance": [],
      "authorship_tag": "ABX9TyP0YLtwPHA4htog+J+eT5W5",
      "include_colab_link": true
    },
    "kernelspec": {
      "name": "python3",
      "display_name": "Python 3"
    },
    "language_info": {
      "name": "python"
    },
    "accelerator": "GPU",
    "gpuClass": "standard"
  },
  "cells": [
    {
      "cell_type": "markdown",
      "metadata": {
        "id": "view-in-github",
        "colab_type": "text"
      },
      "source": [
        "<a href=\"https://colab.research.google.com/github/farshadrashidi2022/farshad_INSE_6220/blob/main/farshad.ipynb\" target=\"_parent\"><img src=\"https://colab.research.google.com/assets/colab-badge.svg\" alt=\"Open In Colab\"/></a>"
      ]
    },
    {
      "cell_type": "code",
      "execution_count": 3,
      "metadata": {
        "colab": {
          "base_uri": "https://localhost:8080/"
        },
        "id": "FbRNt-uL9jd_",
        "outputId": "0fbed6e7-ea61-42ad-87af-956a22c47270"
      },
      "outputs": [
        {
          "output_type": "stream",
          "name": "stdout",
          "text": [
            "hello\n"
          ]
        }
      ],
      "source": [
        "print (\"hello\")"
      ]
    },
    {
      "cell_type": "markdown",
      "source": [
        "***hi this is farshad***"
      ],
      "metadata": {
        "id": "YJRzumSbUuWF"
      }
    },
    {
      "cell_type": "code",
      "source": [
        "import pandas as pd\n",
        "df = pd.read_csv('spotify_weekly_chart.csv')\n",
        "df.head(10)\n",
        "\n"
      ],
      "metadata": {
        "colab": {
          "base_uri": "https://localhost:8080/",
          "height": 363
        },
        "id": "NGkLPV8XWjNZ",
        "outputId": "de1f27be-5754-4c26-93ec-a98603bc8e33"
      },
      "execution_count": 4,
      "outputs": [
        {
          "output_type": "execute_result",
          "data": {
            "text/plain": [
              "   Pos   P+          Artist                                  Title  Wks  Pk  \\\n",
              "0    1  NEW    Miley Cyrus                                 Flowers    1   1   \n",
              "1    2  +37       Bizarrap   Shakira: Bzrp Music Sessions, Vol. 53    2   2   \n",
              "2    3   -2            SZA                               Kill Bill    6   1   \n",
              "3    4   -2   Metro Boomin                                Creepin'    7   2   \n",
              "4    5   -2      Sam Smith                                  Unholy   17   1   \n",
              "5    6    =  Manuel Turizo                              La Bachata   29   4   \n",
              "6    7   -3   Harry Styles                               As It Was   42   1   \n",
              "7    8    =       Arcángel                                La Jumpa    7   8   \n",
              "8    9   -4   David Guetta                         I'm Good (Blue)   21   2   \n",
              "9   10   -3   Taylor Swift                                    Anti   13   1   \n",
              "\n",
              "    (x?)   Streams    Streams+       Total  \n",
              "0   (x1)  96032624         NaN    96032624  \n",
              "1   (x1)  80646962  66253620.0    95040304  \n",
              "2   (x2)  55234610   7946101.0   263278907  \n",
              "3   (x1)  35632168   4878510.0   219855312  \n",
              "4   (x7)  30603339   -129944.0   704137221  \n",
              "5    NaN  27632715   1753429.0   721453458  \n",
              "6  (x11)  27125381  -1396819.0  1775083267  \n",
              "7    NaN  27059930   2910633.0   174075424  \n",
              "8   (x4)  26748555   -511758.0   595646710  \n",
              "9   (x3)  24537917   -301742.0   483337821  "
            ],
            "text/html": [
              "\n",
              "  <div id=\"df-6529d3a5-ab18-45d5-8871-9f2a1a345c49\">\n",
              "    <div class=\"colab-df-container\">\n",
              "      <div>\n",
              "<style scoped>\n",
              "    .dataframe tbody tr th:only-of-type {\n",
              "        vertical-align: middle;\n",
              "    }\n",
              "\n",
              "    .dataframe tbody tr th {\n",
              "        vertical-align: top;\n",
              "    }\n",
              "\n",
              "    .dataframe thead th {\n",
              "        text-align: right;\n",
              "    }\n",
              "</style>\n",
              "<table border=\"1\" class=\"dataframe\">\n",
              "  <thead>\n",
              "    <tr style=\"text-align: right;\">\n",
              "      <th></th>\n",
              "      <th>Pos</th>\n",
              "      <th>P+</th>\n",
              "      <th>Artist</th>\n",
              "      <th>Title</th>\n",
              "      <th>Wks</th>\n",
              "      <th>Pk</th>\n",
              "      <th>(x?)</th>\n",
              "      <th>Streams</th>\n",
              "      <th>Streams+</th>\n",
              "      <th>Total</th>\n",
              "    </tr>\n",
              "  </thead>\n",
              "  <tbody>\n",
              "    <tr>\n",
              "      <th>0</th>\n",
              "      <td>1</td>\n",
              "      <td>NEW</td>\n",
              "      <td>Miley Cyrus</td>\n",
              "      <td>Flowers</td>\n",
              "      <td>1</td>\n",
              "      <td>1</td>\n",
              "      <td>(x1)</td>\n",
              "      <td>96032624</td>\n",
              "      <td>NaN</td>\n",
              "      <td>96032624</td>\n",
              "    </tr>\n",
              "    <tr>\n",
              "      <th>1</th>\n",
              "      <td>2</td>\n",
              "      <td>+37</td>\n",
              "      <td>Bizarrap</td>\n",
              "      <td>Shakira: Bzrp Music Sessions, Vol. 53</td>\n",
              "      <td>2</td>\n",
              "      <td>2</td>\n",
              "      <td>(x1)</td>\n",
              "      <td>80646962</td>\n",
              "      <td>66253620.0</td>\n",
              "      <td>95040304</td>\n",
              "    </tr>\n",
              "    <tr>\n",
              "      <th>2</th>\n",
              "      <td>3</td>\n",
              "      <td>-2</td>\n",
              "      <td>SZA</td>\n",
              "      <td>Kill Bill</td>\n",
              "      <td>6</td>\n",
              "      <td>1</td>\n",
              "      <td>(x2)</td>\n",
              "      <td>55234610</td>\n",
              "      <td>7946101.0</td>\n",
              "      <td>263278907</td>\n",
              "    </tr>\n",
              "    <tr>\n",
              "      <th>3</th>\n",
              "      <td>4</td>\n",
              "      <td>-2</td>\n",
              "      <td>Metro Boomin</td>\n",
              "      <td>Creepin'</td>\n",
              "      <td>7</td>\n",
              "      <td>2</td>\n",
              "      <td>(x1)</td>\n",
              "      <td>35632168</td>\n",
              "      <td>4878510.0</td>\n",
              "      <td>219855312</td>\n",
              "    </tr>\n",
              "    <tr>\n",
              "      <th>4</th>\n",
              "      <td>5</td>\n",
              "      <td>-2</td>\n",
              "      <td>Sam Smith</td>\n",
              "      <td>Unholy</td>\n",
              "      <td>17</td>\n",
              "      <td>1</td>\n",
              "      <td>(x7)</td>\n",
              "      <td>30603339</td>\n",
              "      <td>-129944.0</td>\n",
              "      <td>704137221</td>\n",
              "    </tr>\n",
              "    <tr>\n",
              "      <th>5</th>\n",
              "      <td>6</td>\n",
              "      <td>=</td>\n",
              "      <td>Manuel Turizo</td>\n",
              "      <td>La Bachata</td>\n",
              "      <td>29</td>\n",
              "      <td>4</td>\n",
              "      <td>NaN</td>\n",
              "      <td>27632715</td>\n",
              "      <td>1753429.0</td>\n",
              "      <td>721453458</td>\n",
              "    </tr>\n",
              "    <tr>\n",
              "      <th>6</th>\n",
              "      <td>7</td>\n",
              "      <td>-3</td>\n",
              "      <td>Harry Styles</td>\n",
              "      <td>As It Was</td>\n",
              "      <td>42</td>\n",
              "      <td>1</td>\n",
              "      <td>(x11)</td>\n",
              "      <td>27125381</td>\n",
              "      <td>-1396819.0</td>\n",
              "      <td>1775083267</td>\n",
              "    </tr>\n",
              "    <tr>\n",
              "      <th>7</th>\n",
              "      <td>8</td>\n",
              "      <td>=</td>\n",
              "      <td>Arcángel</td>\n",
              "      <td>La Jumpa</td>\n",
              "      <td>7</td>\n",
              "      <td>8</td>\n",
              "      <td>NaN</td>\n",
              "      <td>27059930</td>\n",
              "      <td>2910633.0</td>\n",
              "      <td>174075424</td>\n",
              "    </tr>\n",
              "    <tr>\n",
              "      <th>8</th>\n",
              "      <td>9</td>\n",
              "      <td>-4</td>\n",
              "      <td>David Guetta</td>\n",
              "      <td>I'm Good (Blue)</td>\n",
              "      <td>21</td>\n",
              "      <td>2</td>\n",
              "      <td>(x4)</td>\n",
              "      <td>26748555</td>\n",
              "      <td>-511758.0</td>\n",
              "      <td>595646710</td>\n",
              "    </tr>\n",
              "    <tr>\n",
              "      <th>9</th>\n",
              "      <td>10</td>\n",
              "      <td>-3</td>\n",
              "      <td>Taylor Swift</td>\n",
              "      <td>Anti</td>\n",
              "      <td>13</td>\n",
              "      <td>1</td>\n",
              "      <td>(x3)</td>\n",
              "      <td>24537917</td>\n",
              "      <td>-301742.0</td>\n",
              "      <td>483337821</td>\n",
              "    </tr>\n",
              "  </tbody>\n",
              "</table>\n",
              "</div>\n",
              "      <button class=\"colab-df-convert\" onclick=\"convertToInteractive('df-6529d3a5-ab18-45d5-8871-9f2a1a345c49')\"\n",
              "              title=\"Convert this dataframe to an interactive table.\"\n",
              "              style=\"display:none;\">\n",
              "        \n",
              "  <svg xmlns=\"http://www.w3.org/2000/svg\" height=\"24px\"viewBox=\"0 0 24 24\"\n",
              "       width=\"24px\">\n",
              "    <path d=\"M0 0h24v24H0V0z\" fill=\"none\"/>\n",
              "    <path d=\"M18.56 5.44l.94 2.06.94-2.06 2.06-.94-2.06-.94-.94-2.06-.94 2.06-2.06.94zm-11 1L8.5 8.5l.94-2.06 2.06-.94-2.06-.94L8.5 2.5l-.94 2.06-2.06.94zm10 10l.94 2.06.94-2.06 2.06-.94-2.06-.94-.94-2.06-.94 2.06-2.06.94z\"/><path d=\"M17.41 7.96l-1.37-1.37c-.4-.4-.92-.59-1.43-.59-.52 0-1.04.2-1.43.59L10.3 9.45l-7.72 7.72c-.78.78-.78 2.05 0 2.83L4 21.41c.39.39.9.59 1.41.59.51 0 1.02-.2 1.41-.59l7.78-7.78 2.81-2.81c.8-.78.8-2.07 0-2.86zM5.41 20L4 18.59l7.72-7.72 1.47 1.35L5.41 20z\"/>\n",
              "  </svg>\n",
              "      </button>\n",
              "      \n",
              "  <style>\n",
              "    .colab-df-container {\n",
              "      display:flex;\n",
              "      flex-wrap:wrap;\n",
              "      gap: 12px;\n",
              "    }\n",
              "\n",
              "    .colab-df-convert {\n",
              "      background-color: #E8F0FE;\n",
              "      border: none;\n",
              "      border-radius: 50%;\n",
              "      cursor: pointer;\n",
              "      display: none;\n",
              "      fill: #1967D2;\n",
              "      height: 32px;\n",
              "      padding: 0 0 0 0;\n",
              "      width: 32px;\n",
              "    }\n",
              "\n",
              "    .colab-df-convert:hover {\n",
              "      background-color: #E2EBFA;\n",
              "      box-shadow: 0px 1px 2px rgba(60, 64, 67, 0.3), 0px 1px 3px 1px rgba(60, 64, 67, 0.15);\n",
              "      fill: #174EA6;\n",
              "    }\n",
              "\n",
              "    [theme=dark] .colab-df-convert {\n",
              "      background-color: #3B4455;\n",
              "      fill: #D2E3FC;\n",
              "    }\n",
              "\n",
              "    [theme=dark] .colab-df-convert:hover {\n",
              "      background-color: #434B5C;\n",
              "      box-shadow: 0px 1px 3px 1px rgba(0, 0, 0, 0.15);\n",
              "      filter: drop-shadow(0px 1px 2px rgba(0, 0, 0, 0.3));\n",
              "      fill: #FFFFFF;\n",
              "    }\n",
              "  </style>\n",
              "\n",
              "      <script>\n",
              "        const buttonEl =\n",
              "          document.querySelector('#df-6529d3a5-ab18-45d5-8871-9f2a1a345c49 button.colab-df-convert');\n",
              "        buttonEl.style.display =\n",
              "          google.colab.kernel.accessAllowed ? 'block' : 'none';\n",
              "\n",
              "        async function convertToInteractive(key) {\n",
              "          const element = document.querySelector('#df-6529d3a5-ab18-45d5-8871-9f2a1a345c49');\n",
              "          const dataTable =\n",
              "            await google.colab.kernel.invokeFunction('convertToInteractive',\n",
              "                                                     [key], {});\n",
              "          if (!dataTable) return;\n",
              "\n",
              "          const docLinkHtml = 'Like what you see? Visit the ' +\n",
              "            '<a target=\"_blank\" href=https://colab.research.google.com/notebooks/data_table.ipynb>data table notebook</a>'\n",
              "            + ' to learn more about interactive tables.';\n",
              "          element.innerHTML = '';\n",
              "          dataTable['output_type'] = 'display_data';\n",
              "          await google.colab.output.renderOutput(dataTable, element);\n",
              "          const docLink = document.createElement('div');\n",
              "          docLink.innerHTML = docLinkHtml;\n",
              "          element.appendChild(docLink);\n",
              "        }\n",
              "      </script>\n",
              "    </div>\n",
              "  </div>\n",
              "  "
            ]
          },
          "metadata": {},
          "execution_count": 4
        }
      ]
    },
    {
      "cell_type": "code",
      "source": [
        "df['Title']"
      ],
      "metadata": {
        "colab": {
          "base_uri": "https://localhost:8080/"
        },
        "id": "k4AwHDn6ZlVV",
        "outputId": "37a1643e-fe2b-4f2a-b030-5ee313dc9426"
      },
      "execution_count": 5,
      "outputs": [
        {
          "output_type": "execute_result",
          "data": {
            "text/plain": [
              "0                                    Flowers\n",
              "1      Shakira: Bzrp Music Sessions, Vol. 53\n",
              "2                                  Kill Bill\n",
              "3                                   Creepin'\n",
              "4                                     Unholy\n",
              "                       ...                  \n",
              "195                          drivers license\n",
              "196                  Save Your Tears (Remix)\n",
              "197        Everybody Wants To Rule The World\n",
              "198                             Boy's a liar\n",
              "199                         'Till I Collapse\n",
              "Name: Title, Length: 200, dtype: object"
            ]
          },
          "metadata": {},
          "execution_count": 5
        }
      ]
    },
    {
      "cell_type": "code",
      "source": [
        "print (\"hh\")"
      ],
      "metadata": {
        "colab": {
          "base_uri": "https://localhost:8080/"
        },
        "id": "sqUznM0MuKKK",
        "outputId": "e394c3f4-1c9d-4dda-8b7b-78e47cd872f6"
      },
      "execution_count": 1,
      "outputs": [
        {
          "output_type": "stream",
          "name": "stdout",
          "text": [
            "hh\n"
          ]
        }
      ]
    }
  ]
}